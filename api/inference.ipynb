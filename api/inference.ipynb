{
 "cells": [
  {
   "cell_type": "code",
   "execution_count": null,
   "id": "f228a97e",
   "metadata": {},
   "outputs": [],
   "source": [
    "from paddleocr import PaddleOCR\n",
    "\n",
    "img_path = \"/home/marco/Pictures/Screenshot_20250426_103634.png\"\n",
    "\n",
    "# Classification\n",
    "ocr = PaddleOCR(lang='en', use_angle_cls=True)  # need to run only once to load model into memory"
   ]
  },
  {
   "cell_type": "code",
   "execution_count": null,
   "id": "2c2e4898",
   "metadata": {},
   "outputs": [],
   "source": [
    "# Detection (det): detect location. Default: True. If flase only text recognition is executed\n",
    "# Classification (cls): detect rotation of the text. Default: True\n",
    "# Recognition (rec): recognize the text. Default: True. If false only text detection is executed\n",
    "result = ocr.ocr(img_path, cls=False, det=True, rec=True)\n",
    "\n",
    "# Recognition\n",
    "# ocr = PaddleOCR(lang='en') # need to run only once to load model into memory\n",
    "# result = ocr.ocr(img_path, det=False, cls=False)\n",
    "\n",
    "text_lines = []\n",
    "for idx in range(len(result)):\n",
    "    res = result[idx]\n",
    "    for line in res:\n",
    "        box, (text, confidence) = line\n",
    "        text_lines.append(text)\n",
    "\n",
    "print(\"\\n\".join(text_lines))"
   ]
  }
 ],
 "metadata": {
  "kernelspec": {
   "display_name": ".venv",
   "language": "python",
   "name": "python3"
  },
  "language_info": {
   "codemirror_mode": {
    "name": "ipython",
    "version": 3
   },
   "file_extension": ".py",
   "mimetype": "text/x-python",
   "name": "python",
   "nbconvert_exporter": "python",
   "pygments_lexer": "ipython3",
   "version": "3.13.3"
  }
 },
 "nbformat": 4,
 "nbformat_minor": 5
}
